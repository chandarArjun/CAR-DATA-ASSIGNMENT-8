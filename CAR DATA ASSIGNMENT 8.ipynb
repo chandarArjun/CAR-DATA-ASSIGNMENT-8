{
 "cells": [
  {
   "cell_type": "markdown",
   "metadata": {},
   "source": [
    "# Assignment8"
   ]
  },
  {
   "cell_type": "code",
   "execution_count": 1,
   "metadata": {},
   "outputs": [],
   "source": [
    "import pandas as pd\n",
    "import matplotlib.pyplot as plt\n",
    "import numpy as np\n",
    "from sklearn import linear_model\n",
    "from itertools import combinations\n",
    "from copy import deepcopy"
   ]
  },
  {
   "cell_type": "markdown",
   "metadata": {},
   "source": [
    "# How Much is Your Car Worth?\n",
    "\n",
    "Data about the retail price of 2005 General Motors cars can be found in `car_data.csv`.\n",
    "\n",
    "The columns are:\n",
    "\n",
    "1. Price: suggested retail price of the used 2005 GM car in excellent condition.\n",
    "2. Mileage: number of miles the car has been driven\n",
    "3. Make: manufacturer of the car such as Saturn, Pontiac, and Chevrolet\n",
    "4. Model: specific models for each car manufacturer such as Ion, Vibe, Cavalier\n",
    "5. Trim (of car): specific type of car model such as SE Sedan 4D, Quad Coupe 2D          \n",
    "6. Type: body type such as sedan, coupe, etc.      \n",
    "7. Cylinder: number of cylinders in the engine        \n",
    "8. Liter: a more specific measure of engine size     \n",
    "9. Doors: number of doors           \n",
    "10. Cruise: indicator variable representing whether the car has cruise control (1 = cruise)\n",
    "11. Sound: indicator variable representing whether the car has upgraded speakers (1 = upgraded)\n",
    "12. Leather: indicator variable representing whether the car has leather seats (1 = leather)\n",
    "\n",
    "## Tasks, Part 1\n",
    "\n",
    "1. Find the linear regression equation for mileage vs price.\n",
    "2. Chart the original data and the equation on the chart.\n",
    "3. Find the equation's $R^2$ score (use the `.score` method) to determine whether the\n",
    "equation is a good fit for this data. (0.8 and greater is considered a strong correlation.)\n",
    "\n",
    "## Tasks, Part 2\n",
    "\n",
    "1. Use mileage, cylinders, liters, doors, cruise, sound, and leather to find the linear regression equation.\n",
    "2. Find the equation's $R^2$ score (use the `.score` method) to determine whether the\n",
    "equation is a good fit for this data. (0.8 and greater is considered a strong correlation.)\n",
    "3. Find the combination of the factors that is the best predictor for price.\n",
    "\n",
    "## Tasks, Hard Mode\n",
    "\n",
    "1. Research dummy variables in scikit-learn to see how to use the make, model, and body type.\n",
    "2. Find the best combination of factors to predict price."
   ]
  },
  {
   "cell_type": "code",
   "execution_count": 5,
   "metadata": {},
   "outputs": [],
   "source": [
    "df = pd.read_csv(\"car_data.csv\")"
   ]
  },
  {
   "cell_type": "code",
   "execution_count": 7,
   "metadata": {},
   "outputs": [
    {
     "data": {
      "text/html": [
       "<div>\n",
       "<style scoped>\n",
       "    .dataframe tbody tr th:only-of-type {\n",
       "        vertical-align: middle;\n",
       "    }\n",
       "\n",
       "    .dataframe tbody tr th {\n",
       "        vertical-align: top;\n",
       "    }\n",
       "\n",
       "    .dataframe thead th {\n",
       "        text-align: right;\n",
       "    }\n",
       "</style>\n",
       "<table border=\"1\" class=\"dataframe\">\n",
       "  <thead>\n",
       "    <tr style=\"text-align: right;\">\n",
       "      <th></th>\n",
       "      <th>Price</th>\n",
       "      <th>Mileage</th>\n",
       "      <th>Make</th>\n",
       "      <th>Model</th>\n",
       "      <th>Trim</th>\n",
       "      <th>Type</th>\n",
       "      <th>Cylinder</th>\n",
       "      <th>Liter</th>\n",
       "      <th>Doors</th>\n",
       "      <th>Cruise</th>\n",
       "      <th>Sound</th>\n",
       "      <th>Leather</th>\n",
       "    </tr>\n",
       "  </thead>\n",
       "  <tbody>\n",
       "    <tr>\n",
       "      <th>0</th>\n",
       "      <td>17314.103129</td>\n",
       "      <td>8221</td>\n",
       "      <td>Buick</td>\n",
       "      <td>Century</td>\n",
       "      <td>Sedan 4D</td>\n",
       "      <td>Sedan</td>\n",
       "      <td>6</td>\n",
       "      <td>3.1</td>\n",
       "      <td>4</td>\n",
       "      <td>1</td>\n",
       "      <td>1</td>\n",
       "      <td>1</td>\n",
       "    </tr>\n",
       "    <tr>\n",
       "      <th>1</th>\n",
       "      <td>17542.036083</td>\n",
       "      <td>9135</td>\n",
       "      <td>Buick</td>\n",
       "      <td>Century</td>\n",
       "      <td>Sedan 4D</td>\n",
       "      <td>Sedan</td>\n",
       "      <td>6</td>\n",
       "      <td>3.1</td>\n",
       "      <td>4</td>\n",
       "      <td>1</td>\n",
       "      <td>1</td>\n",
       "      <td>0</td>\n",
       "    </tr>\n",
       "    <tr>\n",
       "      <th>2</th>\n",
       "      <td>16218.847862</td>\n",
       "      <td>13196</td>\n",
       "      <td>Buick</td>\n",
       "      <td>Century</td>\n",
       "      <td>Sedan 4D</td>\n",
       "      <td>Sedan</td>\n",
       "      <td>6</td>\n",
       "      <td>3.1</td>\n",
       "      <td>4</td>\n",
       "      <td>1</td>\n",
       "      <td>1</td>\n",
       "      <td>0</td>\n",
       "    </tr>\n",
       "    <tr>\n",
       "      <th>3</th>\n",
       "      <td>16336.913140</td>\n",
       "      <td>16342</td>\n",
       "      <td>Buick</td>\n",
       "      <td>Century</td>\n",
       "      <td>Sedan 4D</td>\n",
       "      <td>Sedan</td>\n",
       "      <td>6</td>\n",
       "      <td>3.1</td>\n",
       "      <td>4</td>\n",
       "      <td>1</td>\n",
       "      <td>0</td>\n",
       "      <td>0</td>\n",
       "    </tr>\n",
       "    <tr>\n",
       "      <th>4</th>\n",
       "      <td>16339.170324</td>\n",
       "      <td>19832</td>\n",
       "      <td>Buick</td>\n",
       "      <td>Century</td>\n",
       "      <td>Sedan 4D</td>\n",
       "      <td>Sedan</td>\n",
       "      <td>6</td>\n",
       "      <td>3.1</td>\n",
       "      <td>4</td>\n",
       "      <td>1</td>\n",
       "      <td>0</td>\n",
       "      <td>1</td>\n",
       "    </tr>\n",
       "  </tbody>\n",
       "</table>\n",
       "</div>"
      ],
      "text/plain": [
       "          Price  Mileage   Make    Model      Trim   Type  Cylinder  Liter  \\\n",
       "0  17314.103129     8221  Buick  Century  Sedan 4D  Sedan         6    3.1   \n",
       "1  17542.036083     9135  Buick  Century  Sedan 4D  Sedan         6    3.1   \n",
       "2  16218.847862    13196  Buick  Century  Sedan 4D  Sedan         6    3.1   \n",
       "3  16336.913140    16342  Buick  Century  Sedan 4D  Sedan         6    3.1   \n",
       "4  16339.170324    19832  Buick  Century  Sedan 4D  Sedan         6    3.1   \n",
       "\n",
       "   Doors  Cruise  Sound  Leather  \n",
       "0      4       1      1        1  \n",
       "1      4       1      1        0  \n",
       "2      4       1      1        0  \n",
       "3      4       1      0        0  \n",
       "4      4       1      0        1  "
      ]
     },
     "execution_count": 7,
     "metadata": {},
     "output_type": "execute_result"
    }
   ],
   "source": [
    "df.head()"
   ]
  },
  {
   "cell_type": "markdown",
   "metadata": {},
   "source": [
    "#### Task 1"
   ]
  },
  {
   "cell_type": "code",
   "execution_count": 9,
   "metadata": {},
   "outputs": [
    {
     "name": "stdout",
     "output_type": "stream",
     "text": [
      "-0.1725205027912493 * Price + 24764.56\n"
     ]
    }
   ],
   "source": [
    "#linear Regression \n",
    "regr_mp = linear_model.LinearRegression()\n",
    "mileage = df[['Mileage']]\n",
    "price = df['Price']\n",
    "regr_mp.fit(mileage, price)\n",
    "print('{} * Price + {:.2f}'.format(regr_mp.coef_[0], regr_mp.intercept_))"
   ]
  },
  {
   "cell_type": "code",
   "execution_count": 11,
   "metadata": {},
   "outputs": [
    {
     "data": {
      "image/png": "[encoded data removed]",
      "text/plain": [
       "<Figure size 432x288 with 1 Axes>"
      ]
     },
     "metadata": {
      "needs_background": "light"
     },
     "output_type": "display_data"
    }
   ],
   "source": [
    "#plotting the values of the original data\n",
    "plt.scatter(x=mileage, y=price)\n",
    "plt.plot(mileage, regr_mp.predict(mileage))\n",
    "plt.title('Mileage vs price')\n",
    "plt.xlabel('mileage')\n",
    "plt.ylabel('price')\n",
    "plt.show()"
   ]
  },
  {
   "cell_type": "code",
   "execution_count": 12,
   "metadata": {},
   "outputs": [
    {
     "name": "stdout",
     "output_type": "stream",
     "text": [
      " Score of linear regression: 0.02046\n"
     ]
    }
   ],
   "source": [
    "#combinationm of the factors\n",
    "print(' Score of linear regression: {:.5f}'\n",
    "      .format(regr_mp.score(mileage,price)))"
   ]
  },
  {
   "cell_type": "markdown",
   "metadata": {},
   "source": [
    "##### The score is nowhere close to value 0.8 ,it is not a good fit for our data. It is considered as weaker correlation ."
   ]
  },
  {
   "cell_type": "markdown",
   "metadata": {},
   "source": [
    "#### Tasks, Part 2\n"
   ]
  },
  {
   "cell_type": "code",
   "execution_count": 13,
   "metadata": {},
   "outputs": [
    {
     "data": {
      "text/html": [
       "<div>\n",
       "<style scoped>\n",
       "    .dataframe tbody tr th:only-of-type {\n",
       "        vertical-align: middle;\n",
       "    }\n",
       "\n",
       "    .dataframe tbody tr th {\n",
       "        vertical-align: top;\n",
       "    }\n",
       "\n",
       "    .dataframe thead th {\n",
       "        text-align: right;\n",
       "    }\n",
       "</style>\n",
       "<table border=\"1\" class=\"dataframe\">\n",
       "  <thead>\n",
       "    <tr style=\"text-align: right;\">\n",
       "      <th></th>\n",
       "      <th>Price</th>\n",
       "      <th>Mileage</th>\n",
       "      <th>Make</th>\n",
       "      <th>Model</th>\n",
       "      <th>Trim</th>\n",
       "      <th>Type</th>\n",
       "      <th>Cylinder</th>\n",
       "      <th>Liter</th>\n",
       "      <th>Doors</th>\n",
       "      <th>Cruise</th>\n",
       "      <th>Sound</th>\n",
       "      <th>Leather</th>\n",
       "    </tr>\n",
       "  </thead>\n",
       "  <tbody>\n",
       "    <tr>\n",
       "      <th>0</th>\n",
       "      <td>17314.103129</td>\n",
       "      <td>8221</td>\n",
       "      <td>Buick</td>\n",
       "      <td>Century</td>\n",
       "      <td>Sedan 4D</td>\n",
       "      <td>Sedan</td>\n",
       "      <td>6</td>\n",
       "      <td>3.1</td>\n",
       "      <td>4</td>\n",
       "      <td>1</td>\n",
       "      <td>1</td>\n",
       "      <td>1</td>\n",
       "    </tr>\n",
       "    <tr>\n",
       "      <th>1</th>\n",
       "      <td>17542.036083</td>\n",
       "      <td>9135</td>\n",
       "      <td>Buick</td>\n",
       "      <td>Century</td>\n",
       "      <td>Sedan 4D</td>\n",
       "      <td>Sedan</td>\n",
       "      <td>6</td>\n",
       "      <td>3.1</td>\n",
       "      <td>4</td>\n",
       "      <td>1</td>\n",
       "      <td>1</td>\n",
       "      <td>0</td>\n",
       "    </tr>\n",
       "  </tbody>\n",
       "</table>\n",
       "</div>"
      ],
      "text/plain": [
       "          Price  Mileage   Make    Model      Trim   Type  Cylinder  Liter  \\\n",
       "0  17314.103129     8221  Buick  Century  Sedan 4D  Sedan         6    3.1   \n",
       "1  17542.036083     9135  Buick  Century  Sedan 4D  Sedan         6    3.1   \n",
       "\n",
       "   Doors  Cruise  Sound  Leather  \n",
       "0      4       1      1        1  \n",
       "1      4       1      1        0  "
      ]
     },
     "execution_count": 13,
     "metadata": {},
     "output_type": "execute_result"
    }
   ],
   "source": [
    "df.head(2)"
   ]
  },
  {
   "cell_type": "code",
   "execution_count": 19,
   "metadata": {},
   "outputs": [],
   "source": [
    "car_features = ['Mileage','Cylinder','Liter','Doors','Cruise','Sound','Leather']"
   ]
  },
  {
   "cell_type": "code",
   "execution_count": 20,
   "metadata": {},
   "outputs": [],
   "source": [
    "def lin_reg_eq(cols, df_in, focus='Price', print_this=False):\n",
    "    input_cols = df_in[cols]\n",
    "    focus_output = df_in[focus]\n",
    "    regr = linear_model.LinearRegression()\n",
    "    regr.fit(input_cols, focus_output)\n",
    "    if print_this:\n",
    "        print('The equation for columns {} w.r.t. {}:\\n'.format(cols, focus))\n",
    "        for n, x in enumerate(cols):\n",
    "            print('({} * {}) + '.format(regr.coef_[n], x))\n",
    "        print('{}'.format(regr.intercept_))\n",
    "    return regr"
   ]
  },
  {
   "cell_type": "code",
   "execution_count": 21,
   "metadata": {},
   "outputs": [
    {
     "name": "stdout",
     "output_type": "stream",
     "text": [
      "The equation for columns ['Mileage', 'Cylinder', 'Liter', 'Doors', 'Cruise', 'Sound', 'Leather'] w.r.t. Price:\n",
      "\n",
      "(-0.16974783233303697 * Mileage) + \n",
      "(3792.3789307825155 * Cylinder) + \n",
      "(-787.2207316338224 * Liter) + \n",
      "(-1542.7458463820678 * Doors) + \n",
      "(6288.997149849927 * Cruise) + \n",
      "(-1993.7952756984266 * Sound) + \n",
      "(3349.361619613554 * Leather) + \n",
      "6758.755143598077\n"
     ]
    }
   ],
   "source": [
    "regr_features = lin_reg_eq(car_features, df, print_this=True)"
   ]
  },
  {
   "cell_type": "code",
   "execution_count": 22,
   "metadata": {},
   "outputs": [
    {
     "name": "stdout",
     "output_type": "stream",
     "text": [
      "Score of the above linear regression: 0.446264353672838\n"
     ]
    }
   ],
   "source": [
    "print('Score of the above linear regression: {}'\n",
    "      .format(regr_features.score(df[car_features], df['Price'])))"
   ]
  },
  {
   "cell_type": "code",
   "execution_count": 23,
   "metadata": {},
   "outputs": [],
   "source": [
    "def lin_reg_wrt_focus(cols, df_in, focus='Price'):\n",
    "    '''cols is a list of lists'''\n",
    "    input_cols = df_in[cols]\n",
    "    focus_output = df_in[focus]\n",
    "    regr = linear_model.LinearRegression()\n",
    "    regr.fit(input_cols, focus_output)\n",
    "    return regr.score(input_cols, focus_output)\n",
    "\n",
    "def get_combos(cols):\n",
    "    return [list(combinations(cols, n + 1)) for n in range(len(cols))]\n",
    "\n",
    "def all_combo_scores(combos, df_in, focus='Price'):\n",
    "    combo_scores = {}\n",
    "    for m in range(len(combos)):\n",
    "        for n in combos[m]:\n",
    "            combo_scores[n] = lin_reg_wrt_focus(list(n), df_in, focus)\n",
    "    return combo_scores"
   ]
  },
  {
   "cell_type": "code",
   "execution_count": 24,
   "metadata": {},
   "outputs": [
    {
     "name": "stdout",
     "output_type": "stream",
     "text": [
      "0.446264353672838 ('Mileage', 'Cylinder', 'Liter', 'Doors', 'Cruise', 'Sound', 'Leather')\n",
      "0.44569092105870245 ('Mileage', 'Cylinder', 'Doors', 'Cruise', 'Sound', 'Leather')\n",
      "0.437805741536638 ('Mileage', 'Cylinder', 'Liter', 'Doors', 'Cruise', 'Leather')\n",
      "0.4369402151237246 ('Mileage', 'Cylinder', 'Doors', 'Cruise', 'Leather')\n",
      "0.43014148406475605 ('Mileage', 'Cylinder', 'Liter', 'Cruise', 'Sound', 'Leather')\n",
      "0.43001820483252684 ('Mileage', 'Cylinder', 'Cruise', 'Sound', 'Leather')\n",
      "0.4265348637809261 ('Cylinder', 'Liter', 'Doors', 'Cruise', 'Sound', 'Leather')\n",
      "0.4257681327974422 ('Cylinder', 'Doors', 'Cruise', 'Sound', 'Leather')\n",
      "0.42482840454267856 ('Mileage', 'Liter', 'Doors', 'Cruise', 'Sound', 'Leather')\n",
      "0.42441824017998775 ('Mileage', 'Cylinder', 'Liter', 'Doors', 'Cruise', 'Sound')\n",
      "0.42409748258510405 ('Mileage', 'Cylinder', 'Doors', 'Cruise', 'Sound')\n",
      "0.4225307670398466 ('Mileage', 'Cylinder', 'Liter', 'Cruise', 'Leather')\n",
      "0.4225074214774762 ('Mileage', 'Cylinder', 'Cruise', 'Leather')\n",
      "0.4196580477703242 ('Mileage', 'Cylinder', 'Liter', 'Doors', 'Cruise')\n",
      "0.41914964510731756 ('Mileage', 'Cylinder', 'Doors', 'Cruise')\n",
      "0.4188394218057132 ('Cylinder', 'Liter', 'Doors', 'Cruise', 'Leather')\n",
      "0.417760273701972 ('Cylinder', 'Doors', 'Cruise', 'Leather')\n",
      "0.41650804904235117 ('Mileage', 'Liter', 'Cruise', 'Sound', 'Leather')\n",
      "0.4140092231630349 ('Mileage', 'Liter', 'Doors', 'Cruise', 'Leather')\n",
      "0.4107029526441046 ('Cylinder', 'Liter', 'Cruise', 'Sound', 'Leather')\n",
      "0.4106549415858882 ('Cylinder', 'Cruise', 'Sound', 'Leather')\n",
      "0.40678789687026895 ('Mileage', 'Liter', 'Cruise', 'Leather')\n",
      "0.40654915865835206 ('Mileage', 'Cylinder', 'Liter', 'Cruise', 'Sound')\n",
      "0.4061644982625815 ('Mileage', 'Cylinder', 'Cruise', 'Sound')\n",
      "0.4050927515057854 ('Cylinder', 'Liter', 'Doors', 'Cruise', 'Sound')\n",
      "0.40462307098659855 ('Cylinder', 'Doors', 'Cruise', 'Sound')\n",
      "0.40380376425767606 ('Cylinder', 'Liter', 'Cruise', 'Leather')\n",
      "0.40380272693971564 ('Cylinder', 'Cruise', 'Leather')\n",
      "0.40346337208358085 ('Liter', 'Doors', 'Cruise', 'Sound', 'Leather')\n",
      "0.4031213170211536 ('Mileage', 'Liter', 'Doors', 'Cruise', 'Sound')\n",
      "0.4025842618924307 ('Mileage', 'Cylinder', 'Liter', 'Cruise')\n",
      "0.4023745860316019 ('Mileage', 'Cylinder', 'Cruise')\n",
      "0.4008748693270304 ('Cylinder', 'Liter', 'Doors', 'Cruise')\n",
      "0.4001989079545567 ('Cylinder', 'Doors', 'Cruise')\n",
      "0.39653266980131807 ('Mileage', 'Liter', 'Doors', 'Cruise')\n",
      "0.39564260736568424 ('Liter', 'Cruise', 'Sound', 'Leather')\n",
      "0.39346849142215845 ('Mileage', 'Liter', 'Cruise', 'Sound')\n",
      "0.39345887351036213 ('Liter', 'Doors', 'Cruise', 'Leather')\n",
      "0.38792398390551586 ('Mileage', 'Liter', 'Cruise')\n",
      "0.3875431216736017 ('Cylinder', 'Liter', 'Cruise', 'Sound')\n",
      "0.3873058022296456 ('Cylinder', 'Cruise', 'Sound')\n",
      "0.38665505937731115 ('Liter', 'Cruise', 'Leather')\n",
      "0.3840622008524506 ('Cylinder', 'Liter', 'Cruise')\n",
      "0.3839491324027342 ('Cylinder', 'Cruise')\n",
      "0.3827150450021579 ('Mileage', 'Cylinder', 'Liter', 'Doors', 'Sound', 'Leather')\n",
      "0.38258521179336924 ('Mileage', 'Cylinder', 'Doors', 'Sound', 'Leather')\n",
      "0.3821808777658823 ('Liter', 'Doors', 'Cruise', 'Sound')\n",
      "0.3761916805347969 ('Liter', 'Doors', 'Cruise')\n",
      "0.3730745596141458 ('Liter', 'Cruise', 'Sound')\n",
      "0.37136690890240676 ('Mileage', 'Cylinder', 'Liter', 'Doors', 'Leather')\n",
      "0.37133199838451947 ('Mileage', 'Cylinder', 'Doors', 'Leather')\n",
      "0.3680458490296844 ('Liter', 'Cruise')\n",
      "0.36771522262682865 ('Mileage', 'Cylinder', 'Liter', 'Doors', 'Sound')\n",
      "0.3674991296973681 ('Mileage', 'Cylinder', 'Doors', 'Sound')\n",
      "0.365294232839972 ('Mileage', 'Cylinder', 'Liter', 'Sound', 'Leather')\n",
      "0.36516944395094464 ('Cylinder', 'Liter', 'Doors', 'Sound', 'Leather')\n",
      "0.36511700356207033 ('Cylinder', 'Doors', 'Sound', 'Leather')\n",
      "0.36329101174690714 ('Mileage', 'Liter', 'Doors', 'Sound', 'Leather')\n",
      "0.3627841037859246 ('Mileage', 'Cylinder', 'Sound', 'Leather')\n",
      "0.3601250633027092 ('Mileage', 'Cylinder', 'Liter', 'Doors')\n",
      "0.3600299189649303 ('Mileage', 'Cylinder', 'Doors')\n",
      "0.354940443055751 ('Mileage', 'Cylinder', 'Liter', 'Leather')\n",
      "0.354706889409253 ('Cylinder', 'Liter', 'Doors', 'Leather')\n",
      "0.3547026130008998 ('Cylinder', 'Doors', 'Leather')\n",
      "0.35363153818528126 ('Mileage', 'Liter', 'Sound', 'Leather')\n",
      "0.35303578931823953 ('Mileage', 'Cylinder', 'Leather')\n",
      "0.35038121816111223 ('Cylinder', 'Liter', 'Doors', 'Sound')\n",
      "0.3502699330133767 ('Cylinder', 'Doors', 'Sound')\n",
      "0.34940517971815865 ('Mileage', 'Liter', 'Doors', 'Leather')\n",
      "0.34885465224422074 ('Mileage', 'Cylinder', 'Liter', 'Sound')\n",
      "0.34830222786670784 ('Mileage', 'Liter', 'Doors', 'Sound')\n",
      "0.34805583937456297 ('Cylinder', 'Liter', 'Sound', 'Leather')\n",
      "0.345985332754168 ('Cylinder', 'Sound', 'Leather')\n",
      "0.34579303945195394 ('Mileage', 'Cylinder', 'Sound')\n",
      "0.3442397580756411 ('Liter', 'Doors', 'Sound', 'Leather')\n",
      "0.3434954780689595 ('Cylinder', 'Liter', 'Doors')\n",
      "0.343460536583038 ('Cylinder', 'Doors')\n",
      "0.34228021178720824 ('Mileage', 'Cylinder', 'Liter')\n",
      "0.34105691618639966 ('Mileage', 'Liter', 'Leather')\n",
      "0.33982070826367505 ('Mileage', 'Cylinder')\n",
      "0.33859102766485805 ('Mileage', 'Liter', 'Doors')\n",
      "0.33853269361625415 ('Cylinder', 'Liter', 'Leather')\n",
      "0.3375252452641956 ('Mileage', 'Liter', 'Sound')\n",
      "0.33698000644980597 ('Cylinder', 'Leather')\n",
      "0.3351140707646345 ('Liter', 'Sound', 'Leather')\n",
      "0.3318486045315714 ('Cylinder', 'Liter', 'Sound')\n",
      "0.3312844538529036 ('Liter', 'Doors', 'Leather')\n",
      "0.32947196699054004 ('Liter', 'Doors', 'Sound')\n",
      "0.32927527347959384 ('Cylinder', 'Sound')\n",
      "0.3291279066854156 ('Mileage', 'Liter')\n",
      "0.3259155160156657 ('Cylinder', 'Liter')\n",
      "0.32385903759512247 ('Cylinder',)\n",
      "0.32337917189904186 ('Liter', 'Leather')\n",
      "0.3205156407766834 ('Liter', 'Doors')\n",
      "0.31926427639502886 ('Liter', 'Sound')\n",
      "0.31152674427904514 ('Liter',)\n",
      "0.27282594767567814 ('Mileage', 'Doors', 'Cruise', 'Sound', 'Leather')\n",
      "0.2594013856567562 ('Mileage', 'Cruise', 'Sound', 'Leather')\n",
      "0.2566547812611919 ('Mileage', 'Doors', 'Cruise', 'Leather')\n",
      "0.2474491349580753 ('Doors', 'Cruise', 'Sound', 'Leather')\n",
      "0.24484643441472975 ('Mileage', 'Cruise', 'Leather')\n",
      "0.23464406340531807 ('Cruise', 'Sound', 'Leather')\n",
      "0.23336920288580454 ('Mileage', 'Doors', 'Cruise', 'Sound')\n",
      "0.23229120295179528 ('Doors', 'Cruise', 'Leather')\n",
      "0.2239031407636466 ('Mileage', 'Doors', 'Cruise')\n",
      "0.2210042052179847 ('Cruise', 'Leather')\n",
      "0.21721656906779274 ('Mileage', 'Cruise', 'Sound')\n",
      "0.2093138558315859 ('Mileage', 'Cruise')\n",
      "0.2083536888853531 ('Doors', 'Cruise', 'Sound')\n",
      "0.1996382468921617 ('Doors', 'Cruise')\n",
      "0.19288948066869627 ('Cruise', 'Sound')\n",
      "0.1856330092969275 ('Cruise',)\n",
      "0.08933709379370725 ('Mileage', 'Doors', 'Sound', 'Leather')\n",
      "0.06965940622436517 ('Mileage', 'Sound', 'Leather')\n",
      "0.06687313316188848 ('Doors', 'Sound', 'Leather')\n",
      "0.06256392121987708 ('Mileage', 'Doors', 'Leather')\n",
      "0.05925054392042661 ('Mileage', 'Doors', 'Sound')\n",
      "0.04795369092082746 ('Sound', 'Leather')\n",
      "0.04521956340886857 ('Mileage', 'Leather')\n",
      "0.04141817346866039 ('Doors', 'Leather')\n",
      "0.04039914867118721 ('Mileage', 'Doors')\n",
      "0.0370162877090342 ('Doors', 'Sound')\n",
      "0.036881215967350056 ('Mileage', 'Sound')\n",
      "0.024710851264124534 ('Leather',)\n",
      "0.02046344732348926 ('Mileage',)\n",
      "0.019251466591467037 ('Doors',)\n",
      "0.015462387624189389 ('Sound',)\n"
     ]
    }
   ],
   "source": [
    "combos = get_combos(car_features)\n",
    "combo_scores = all_combo_scores(combos, df)\n",
    "score_list1 = sorted(combo_scores.items(), key=lambda c: c[1], reverse=True)\n",
    "for score in score_list1:\n",
    "    print(score[1], score[0])"
   ]
  },
  {
   "cell_type": "markdown",
   "metadata": {},
   "source": [
    "##### There is no combination that produces a strong correlation. However, the 'Cylinder' field has a high score on its own: 0.32385903759512258."
   ]
  },
  {
   "cell_type": "markdown",
   "metadata": {},
   "source": [
    "#### Task Hard Mode"
   ]
  },
  {
   "cell_type": "code",
   "execution_count": 27,
   "metadata": {},
   "outputs": [
    {
     "data": {
      "text/html": [
       "<div>\n",
       "<style scoped>\n",
       "    .dataframe tbody tr th:only-of-type {\n",
       "        vertical-align: middle;\n",
       "    }\n",
       "\n",
       "    .dataframe tbody tr th {\n",
       "        vertical-align: top;\n",
       "    }\n",
       "\n",
       "    .dataframe thead th {\n",
       "        text-align: right;\n",
       "    }\n",
       "</style>\n",
       "<table border=\"1\" class=\"dataframe\">\n",
       "  <thead>\n",
       "    <tr style=\"text-align: right;\">\n",
       "      <th></th>\n",
       "      <th>Price</th>\n",
       "      <th>Mileage</th>\n",
       "      <th>Trim</th>\n",
       "      <th>Cylinder</th>\n",
       "      <th>Liter</th>\n",
       "      <th>Doors</th>\n",
       "      <th>Cruise</th>\n",
       "      <th>Sound</th>\n",
       "      <th>Leather</th>\n",
       "      <th>Buick</th>\n",
       "      <th>Cadillac</th>\n",
       "      <th>Chevrolet</th>\n",
       "      <th>Pontiac</th>\n",
       "      <th>SAAB</th>\n",
       "      <th>Saturn</th>\n",
       "      <th>9-2X AWD</th>\n",
       "      <th>9_3</th>\n",
       "      <th>9_3 HO</th>\n",
       "      <th>9_5</th>\n",
       "      <th>9_5 HO</th>\n",
       "      <th>AVEO</th>\n",
       "      <th>Bonneville</th>\n",
       "      <th>CST-V</th>\n",
       "      <th>CTS</th>\n",
       "      <th>Cavalier</th>\n",
       "      <th>Century</th>\n",
       "      <th>Classic</th>\n",
       "      <th>Cobalt</th>\n",
       "      <th>Corvette</th>\n",
       "      <th>Deville</th>\n",
       "      <th>G6</th>\n",
       "      <th>GTO</th>\n",
       "      <th>Grand Am</th>\n",
       "      <th>Grand Prix</th>\n",
       "      <th>Impala</th>\n",
       "      <th>Ion</th>\n",
       "      <th>L Series</th>\n",
       "      <th>Lacrosse</th>\n",
       "      <th>Lesabre</th>\n",
       "      <th>Malibu</th>\n",
       "      <th>Monte Carlo</th>\n",
       "      <th>Park Avenue</th>\n",
       "      <th>STS-V6</th>\n",
       "      <th>STS-V8</th>\n",
       "      <th>Sunfire</th>\n",
       "      <th>Vibe</th>\n",
       "      <th>XLR-V8</th>\n",
       "      <th>Convertible</th>\n",
       "      <th>Coupe</th>\n",
       "      <th>Hatchback</th>\n",
       "      <th>Sedan</th>\n",
       "      <th>Wagon</th>\n",
       "    </tr>\n",
       "  </thead>\n",
       "  <tbody>\n",
       "    <tr>\n",
       "      <th>0</th>\n",
       "      <td>17314.103129</td>\n",
       "      <td>8221</td>\n",
       "      <td>Sedan 4D</td>\n",
       "      <td>6</td>\n",
       "      <td>3.1</td>\n",
       "      <td>4</td>\n",
       "      <td>1</td>\n",
       "      <td>1</td>\n",
       "      <td>1</td>\n",
       "      <td>1</td>\n",
       "      <td>0</td>\n",
       "      <td>0</td>\n",
       "      <td>0</td>\n",
       "      <td>0</td>\n",
       "      <td>0</td>\n",
       "      <td>0</td>\n",
       "      <td>0</td>\n",
       "      <td>0</td>\n",
       "      <td>0</td>\n",
       "      <td>0</td>\n",
       "      <td>0</td>\n",
       "      <td>0</td>\n",
       "      <td>0</td>\n",
       "      <td>0</td>\n",
       "      <td>0</td>\n",
       "      <td>1</td>\n",
       "      <td>0</td>\n",
       "      <td>0</td>\n",
       "      <td>0</td>\n",
       "      <td>0</td>\n",
       "      <td>0</td>\n",
       "      <td>0</td>\n",
       "      <td>0</td>\n",
       "      <td>0</td>\n",
       "      <td>0</td>\n",
       "      <td>0</td>\n",
       "      <td>0</td>\n",
       "      <td>0</td>\n",
       "      <td>0</td>\n",
       "      <td>0</td>\n",
       "      <td>0</td>\n",
       "      <td>0</td>\n",
       "      <td>0</td>\n",
       "      <td>0</td>\n",
       "      <td>0</td>\n",
       "      <td>0</td>\n",
       "      <td>0</td>\n",
       "      <td>0</td>\n",
       "      <td>0</td>\n",
       "      <td>0</td>\n",
       "      <td>1</td>\n",
       "      <td>0</td>\n",
       "    </tr>\n",
       "    <tr>\n",
       "      <th>1</th>\n",
       "      <td>17542.036083</td>\n",
       "      <td>9135</td>\n",
       "      <td>Sedan 4D</td>\n",
       "      <td>6</td>\n",
       "      <td>3.1</td>\n",
       "      <td>4</td>\n",
       "      <td>1</td>\n",
       "      <td>1</td>\n",
       "      <td>0</td>\n",
       "      <td>1</td>\n",
       "      <td>0</td>\n",
       "      <td>0</td>\n",
       "      <td>0</td>\n",
       "      <td>0</td>\n",
       "      <td>0</td>\n",
       "      <td>0</td>\n",
       "      <td>0</td>\n",
       "      <td>0</td>\n",
       "      <td>0</td>\n",
       "      <td>0</td>\n",
       "      <td>0</td>\n",
       "      <td>0</td>\n",
       "      <td>0</td>\n",
       "      <td>0</td>\n",
       "      <td>0</td>\n",
       "      <td>1</td>\n",
       "      <td>0</td>\n",
       "      <td>0</td>\n",
       "      <td>0</td>\n",
       "      <td>0</td>\n",
       "      <td>0</td>\n",
       "      <td>0</td>\n",
       "      <td>0</td>\n",
       "      <td>0</td>\n",
       "      <td>0</td>\n",
       "      <td>0</td>\n",
       "      <td>0</td>\n",
       "      <td>0</td>\n",
       "      <td>0</td>\n",
       "      <td>0</td>\n",
       "      <td>0</td>\n",
       "      <td>0</td>\n",
       "      <td>0</td>\n",
       "      <td>0</td>\n",
       "      <td>0</td>\n",
       "      <td>0</td>\n",
       "      <td>0</td>\n",
       "      <td>0</td>\n",
       "      <td>0</td>\n",
       "      <td>0</td>\n",
       "      <td>1</td>\n",
       "      <td>0</td>\n",
       "    </tr>\n",
       "  </tbody>\n",
       "</table>\n",
       "</div>"
      ],
      "text/plain": [
       "          Price  Mileage      Trim  Cylinder  Liter  Doors  Cruise  Sound  \\\n",
       "0  17314.103129     8221  Sedan 4D         6    3.1      4       1      1   \n",
       "1  17542.036083     9135  Sedan 4D         6    3.1      4       1      1   \n",
       "\n",
       "   Leather  Buick  Cadillac  Chevrolet  Pontiac  SAAB  Saturn  9-2X AWD  9_3  \\\n",
       "0        1      1         0          0        0     0       0         0    0   \n",
       "1        0      1         0          0        0     0       0         0    0   \n",
       "\n",
       "   9_3 HO  9_5  9_5 HO  AVEO  Bonneville  CST-V  CTS  Cavalier  Century  \\\n",
       "0       0    0       0     0           0      0    0         0        1   \n",
       "1       0    0       0     0           0      0    0         0        1   \n",
       "\n",
       "   Classic  Cobalt  Corvette  Deville  G6  GTO  Grand Am  Grand Prix  Impala  \\\n",
       "0        0       0         0        0   0    0         0           0       0   \n",
       "1        0       0         0        0   0    0         0           0       0   \n",
       "\n",
       "   Ion  L Series  Lacrosse  Lesabre  Malibu  Monte Carlo  Park Avenue  STS-V6  \\\n",
       "0    0         0         0        0       0            0            0       0   \n",
       "1    0         0         0        0       0            0            0       0   \n",
       "\n",
       "   STS-V8  Sunfire  Vibe  XLR-V8  Convertible  Coupe  Hatchback  Sedan  Wagon  \n",
       "0       0        0     0       0            0      0          0      1      0  \n",
       "1       0        0     0       0            0      0          0      1      0  "
      ]
     },
     "execution_count": 27,
     "metadata": {},
     "output_type": "execute_result"
    }
   ],
   "source": [
    "df_mmb = df.copy()\n",
    "\n",
    "df_make = pd.get_dummies(df['Make'])\n",
    "df_mmb[list(df_make.columns)] = df_make\n",
    "df_mmb.pop('Make')\n",
    "\n",
    "df_model = pd.get_dummies(df['Model'])\n",
    "df_mmb[list(df_model.columns)] = df_model\n",
    "df_mmb.pop('Model')\n",
    "\n",
    "df_type = pd.get_dummies(df['Type'])\n",
    "df_mmb[list(df_type.columns)] = df_type\n",
    "df_mmb.pop('Type')\n",
    "\n",
    "pd.set_option('display.max_columns', None)\n",
    "df_mmb.head(2)"
   ]
  },
  {
   "cell_type": "code",
   "execution_count": 28,
   "metadata": {},
   "outputs": [
    {
     "data": {
      "text/plain": [
       "[['Buick'], ['Cadillac'], ['Chevrolet']]"
      ]
     },
     "execution_count": 28,
     "metadata": {},
     "output_type": "execute_result"
    }
   ],
   "source": [
    "columns = list(df_make.columns)\n",
    "columns.extend(df_model.columns)\n",
    "columns.extend(df_type.columns)\n",
    "input_cols = []\n",
    "for item in columns:\n",
    "    input_cols.append([item])\n",
    "input_cols[:3]"
   ]
  },
  {
   "cell_type": "markdown",
   "metadata": {},
   "source": [
    "The two-factor combinations of the original car_features list with each of the new dummy columns to know what is the highest score."
   ]
  },
  {
   "cell_type": "code",
   "execution_count": 29,
   "metadata": {},
   "outputs": [
    {
     "data": {
      "text/plain": [
       "[['Mileage', 'Cylinder'], ['Mileage', 'Liter'], ['Mileage', 'Doors']]"
      ]
     },
     "execution_count": 29,
     "metadata": {},
     "output_type": "execute_result"
    }
   ],
   "source": [
    "combo_twos = list(combinations(car_features, 2))\n",
    "combo_twos_list = [[x[0], x[1]] for x in combo_twos]\n",
    "combo_twos_list[:3]"
   ]
  },
  {
   "cell_type": "code",
   "execution_count": 30,
   "metadata": {},
   "outputs": [],
   "source": [
    "def all_combos_plus_scores(combos, combo_addition, df_in, focus='Price'):\n",
    "    scores = {}\n",
    "    for c_a in combo_addition:\n",
    "        combos_c = deepcopy(combos)\n",
    "        for cb in combos_c:\n",
    "            cb.extend(c_a)\n",
    "            scores[(cb[0], cb[1], cb[2])] = lin_reg_wrt_focus(cb, df_in, focus)\n",
    "    return scores"
   ]
  },
  {
   "cell_type": "markdown",
   "metadata": {},
   "source": [
    "#### Below are the dominant two feature factors for each of the dummy variables; Cylinder and Cruise are the leading factors in the vast majority."
   ]
  },
  {
   "cell_type": "code",
   "execution_count": 34,
   "metadata": {},
   "outputs": [
    {
     "name": "stdout",
     "output_type": "stream",
     "text": [
      "0.6952326188089184 ('Mileage', 'Cylinder', 'SAAB')\n",
      "0.5827463723115367 ('Liter', 'Cruise', 'Cadillac')\n",
      "0.5818864330871814 ('Cylinder', 'Cruise', 'Convertible')\n",
      "0.5565646069943804 ('Cylinder', 'Doors', 'Coupe')\n",
      "0.5183767328460664 ('Liter', 'Cruise', 'XLR-V8')\n",
      "0.4677007997077759 ('Cylinder', 'Cruise', '9_3 HO')\n",
      "0.46131412749530276 ('Cylinder', 'Doors', 'Chevrolet')\n",
      "0.44031377831419116 ('Cylinder', 'Cruise', '9_5')\n",
      "0.42327964442945454 ('Cylinder', 'Cruise', 'Pontiac')\n",
      "0.4209127935020318 ('Cylinder', 'Cruise', 'Wagon')\n",
      "0.41425766320268764 ('Cylinder', 'Cruise', '9_3')\n",
      "0.4094908134557421 ('Cylinder', 'Cruise', '9_5 HO')\n",
      "0.40853637029735634 ('Cylinder', 'Cruise', 'Sedan')\n",
      "0.40801434993536767 ('Cylinder', 'Cruise', 'Buick')\n",
      "0.4066332114627612 ('Cylinder', 'Cruise', 'CST-V')\n",
      "0.4061981380211488 ('Cylinder', 'Cruise', 'Grand Prix')\n",
      "0.4039216683852761 ('Cylinder', 'Cruise', 'Malibu')\n",
      "0.4028424051921041 ('Cylinder', 'Cruise', 'STS-V6')\n",
      "0.4024100042889771 ('Cylinder', 'Cruise', 'Bonneville')\n",
      "0.4000437244670155 ('Cylinder', 'Cruise', 'STS-V8')\n",
      "0.3984214129362751 ('Cylinder', 'Cruise', 'Corvette')\n",
      "0.3983887187658711 ('Cylinder', 'Cruise', 'AVEO')\n",
      "0.3971171080018442 ('Cylinder', 'Cruise', 'Hatchback')\n",
      "0.39603239888509245 ('Cylinder', 'Cruise', 'Monte Carlo')\n",
      "0.3956764388041559 ('Cylinder', 'Cruise', 'Impala')\n",
      "0.3952228755517404 ('Cylinder', 'Cruise', 'Century')\n",
      "0.39390560365869565 ('Cylinder', 'Cruise', 'L Series')\n",
      "0.39279238337721234 ('Cylinder', 'Cruise', 'Cavalier')\n",
      "0.39246844285202565 ('Cylinder', 'Cruise', 'Lesabre')\n",
      "0.39241204113961714 ('Cylinder', 'Cruise', 'G6')\n",
      "0.39198203662200237 ('Cylinder', 'Cruise', 'Deville')\n",
      "0.391187077651576 ('Cylinder', 'Cruise', 'Lacrosse')\n",
      "0.3888935871374648 ('Cylinder', 'Cruise', 'Saturn')\n",
      "0.3873857443756109 ('Cylinder', 'Cruise', 'CTS')\n",
      "0.3860906791282612 ('Cylinder', 'Cruise', '9-2X AWD')\n",
      "0.3855847281336111 ('Cylinder', 'Cruise', 'Sunfire')\n",
      "0.38553761936177566 ('Cylinder', 'Cruise', 'Grand Am')\n",
      "0.3854757724638268 ('Cylinder', 'Cruise', 'Cobalt')\n",
      "0.3851417642289876 ('Cylinder', 'Cruise', 'GTO')\n",
      "0.38484791198079793 ('Cylinder', 'Cruise', 'Ion')\n",
      "0.38472021078824337 ('Cylinder', 'Cruise', 'Vibe')\n",
      "0.3844335361243534 ('Cylinder', 'Cruise', 'Classic')\n",
      "0.3843919122029714 ('Cylinder', 'Cruise', 'Park Avenue')\n"
     ]
    }
   ],
   "source": [
    "car_data_combos = all_combos_plus_scores(combo_twos_list, input_cols, df_mmb)\n",
    "car_data_combos_list = sorted(car_data_combos.items(), key=lambda c: c[1], reverse=True)\n",
    "max_dict = {}\n",
    "for score_ in car_data_combos_list:\n",
    "    try:\n",
    "        max_dict[score_[0][2]]\n",
    "    except:\n",
    "        max_dict[score_[0][2]] = score_[1]\n",
    "        print(score_[1], score_[0])"
   ]
  },
  {
   "cell_type": "markdown",
   "metadata": {},
   "source": [
    "#### Each of the dummy variables on their own scores shown below"
   ]
  },
  {
   "cell_type": "code",
   "execution_count": 35,
   "metadata": {},
   "outputs": [
    {
     "name": "stdout",
     "output_type": "stream",
     "text": [
      "0.43467222055774146 Cadillac\n",
      "0.25808237266623624 Convertible\n",
      "0.22329254532193277 XLR-V8\n",
      "0.16369972777296582 Chevrolet\n",
      "0.11249608486981633 SAAB\n",
      "0.09268208373129971 AVEO\n",
      "0.08811897712425065 Deville\n",
      "0.08294059063514281 Corvette\n",
      "0.07236606185907579 CST-V\n",
      "0.060443061923161845 STS-V8\n",
      "0.059386315780149745 Cavalier\n",
      "0.04481729286980152 Saturn\n",
      "0.044294927303921816 9_3 HO\n",
      "0.042509414286992286 Hatchback\n",
      "0.04218076819132699 Ion\n",
      "0.03711188670126875 Cobalt\n",
      "0.0331684123827396 STS-V6\n",
      "0.02992939459223687 9_5\n",
      "0.028253210000207085 Coupe\n",
      "0.020191011838045725 Pontiac\n",
      "0.01551727999156971 9_3\n",
      "0.01441266225511073 Malibu\n",
      "0.012235997496740647 9_5 HO\n",
      "0.011848005294655573 Vibe\n",
      "0.010715368384112356 CTS\n",
      "0.00990383596925093 Sunfire\n",
      "0.008683138908399224 Grand Am\n",
      "0.007825848896145682 GTO\n",
      "0.007741907120061953 Classic\n",
      "0.004735027107433676 Grand Prix\n",
      "0.003698911729677512 Century\n",
      "0.0029638255654020895 L Series\n",
      "0.0020370652981834825 Wagon\n",
      "0.001866756188844798 Park Avenue\n",
      "0.00121119693448557 Sedan\n",
      "0.0008950546441520713 Monte Carlo\n",
      "0.0008009183526633823 Impala\n",
      "0.00076410284018813 Lesabre\n",
      "0.0007473731721009402 G6\n",
      "0.0006705949575458447 9-2X AWD\n",
      "0.0003156955904867198 Buick\n",
      "7.927732740431459e-05 Bonneville\n",
      "2.795124819021666e-05 Lacrosse\n"
     ]
    }
   ],
   "source": [
    "car_data_2 = {}\n",
    "for item in deepcopy(input_cols):\n",
    "    car_data_2[item[0]] = lin_reg_wrt_focus(item, df_mmb)\n",
    "\n",
    "score_list2 = sorted(car_data_2.items(), key=lambda c: c[1], reverse=True)\n",
    "for score in score_list2:\n",
    "    print(score[1], score[0])"
   ]
  },
  {
   "cell_type": "markdown",
   "metadata": {},
   "source": [
    "#### Taking  Cadillac, Convertible, and Chevrolet "
   ]
  },
  {
   "cell_type": "code",
   "execution_count": 36,
   "metadata": {},
   "outputs": [
    {
     "data": {
      "text/plain": [
       "0.8301641680699674"
      ]
     },
     "execution_count": 36,
     "metadata": {},
     "output_type": "execute_result"
    }
   ],
   "source": [
    "adjusted_car_features = car_features + ['Cadillac', 'Convertible', 'Chevrolet']\n",
    "lin_reg_wrt_focus(adjusted_car_features, df_mmb)"
   ]
  },
  {
   "cell_type": "markdown",
   "metadata": {},
   "source": [
    "##### This score is enough to push us over the 0.8 barrier, We have a strong correlation."
   ]
  },
  {
   "cell_type": "code",
   "execution_count": 37,
   "metadata": {},
   "outputs": [
    {
     "data": {
      "text/plain": [
       "0.8230830294947846"
      ]
     },
     "execution_count": 37,
     "metadata": {},
     "output_type": "execute_result"
    }
   ],
   "source": [
    "adjusted_car_features_2 = ['Cadillac', 'Convertible', 'Chevrolet', 'Mileage', 'Cylinder', 'Cruise', 'Liter']\n",
    "lin_reg_wrt_focus(adjusted_car_features_2, df_mmb)"
   ]
  },
  {
   "cell_type": "markdown",
   "metadata": {},
   "source": [
    "##### Using just the main factors from above , we get similarl impressive score."
   ]
  },
  {
   "cell_type": "code",
   "execution_count": null,
   "metadata": {},
   "outputs": [],
   "source": []
  }
 ],
 "metadata": {
  "kernelspec": {
   "display_name": "Python 3 (ipykernel)",
   "language": "python",
   "name": "python3"
  },
  "language_info": {
   "codemirror_mode": {
    "name": "ipython",
    "version": 3
   },
   "file_extension": ".py",
   "mimetype": "text/x-python",
   "name": "python",
   "nbconvert_exporter": "python",
   "pygments_lexer": "ipython3",
   "version": "3.9.7"
  }
 },
 "nbformat": 4,
 "nbformat_minor": 1
}
